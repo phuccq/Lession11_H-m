{
 "cells": [
  {
   "cell_type": "code",
   "execution_count": 2,
   "id": "500de45f",
   "metadata": {},
   "outputs": [
    {
     "name": "stdout",
     "output_type": "stream",
     "text": [
      "Nhập vào chuỗi: zsdfvdf gSdf \n",
      "Chuỗi vừa nhập có 13 ký tự\n"
     ]
    }
   ],
   "source": [
    "def dem_ky_tu(chuoi):\n",
    "    dem = 0\n",
    "    for i in chuoi:\n",
    "        dem += 1\n",
    "    return dem\n",
    "chuoi = input(\"Nhập vào chuỗi: \")\n",
    "print(f\"Chuỗi vừa nhập có {dem_ky_tu(chuoi)} ký tự\")"
   ]
  },
  {
   "cell_type": "code",
   "execution_count": null,
   "id": "2e2e2476",
   "metadata": {},
   "outputs": [],
   "source": []
  }
 ],
 "metadata": {
  "kernelspec": {
   "display_name": "Python 3 (ipykernel)",
   "language": "python",
   "name": "python3"
  },
  "language_info": {
   "codemirror_mode": {
    "name": "ipython",
    "version": 3
   },
   "file_extension": ".py",
   "mimetype": "text/x-python",
   "name": "python",
   "nbconvert_exporter": "python",
   "pygments_lexer": "ipython3",
   "version": "3.9.12"
  }
 },
 "nbformat": 4,
 "nbformat_minor": 5
}
