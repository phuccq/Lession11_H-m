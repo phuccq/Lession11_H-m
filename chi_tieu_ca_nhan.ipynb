{
 "cells": [
  {
   "cell_type": "code",
   "execution_count": null,
   "id": "88042c18",
   "metadata": {},
   "outputs": [],
   "source": [
    "def add_item(myTempList, item):\n",
    "    myTempList.append(item)\n",
    "def find_index_item(myTempList, item_name):\n",
    "    result = 1\n",
    "    for i in range(len(myTempList)):\n",
    "        if myTempList[i]['name'] == item_name:\n",
    "            result = i\n",
    "    return result\n",
    "def remove_item(myTempList, item_name):\n",
    "    if find_index_item(myTempList,item_name) > -1:\n",
    "        del myTempList[find_index_item(myTempList, item_name)]\n",
    "        print(f\"{item_name} is removed!\")\n",
    "    else:\n",
    "        print(\"Not in list!\")\n",
    "expenses = []\n",
    "print(\"Your expenses:\", expenses,\"\\n\")\n",
    "\n",
    "while True:\n",
    "    print(\"What do you want to do? -\\n\"\\\n",
    "        \"1. Add\\n\" \\\n",
    "        \"2. Remove\")\n",
    "    option = int(input(\"Select option 1 or 2: \"))\n",
    "    name_input = input(\"Item name: \")\n",
    "    if option == 1:\n",
    "        cost_input = int(input(\"Item cost: \"))\n",
    "        date_input = input(\"Date: \")\n",
    "        item = {'name': name_input, 'cost':cost_input, 'date':date_input}\n",
    "        add_item(expenses, item)\n",
    "        print(\"Your expenses: \", expenses,\"\\n\")\n",
    "    elif option == 2:\n",
    "        remove_item(expenses, name_input)\n",
    "        print(\"Your expenses: \", expenses,\"\\n\")\n",
    "    else:\n",
    "        print(\"Invalid input\")\n",
    "    while True:\n",
    "        cont = input(\"Continue? Y/N\")\n",
    "        if cont != \"Y\":\n",
    "            break\n",
    "        "
   ]
  },
  {
   "cell_type": "code",
   "execution_count": null,
   "id": "b3e9a234",
   "metadata": {},
   "outputs": [],
   "source": []
  }
 ],
 "metadata": {
  "kernelspec": {
   "display_name": "Python 3 (ipykernel)",
   "language": "python",
   "name": "python3"
  },
  "language_info": {
   "codemirror_mode": {
    "name": "ipython",
    "version": 3
   },
   "file_extension": ".py",
   "mimetype": "text/x-python",
   "name": "python",
   "nbconvert_exporter": "python",
   "pygments_lexer": "ipython3",
   "version": "3.9.12"
  }
 },
 "nbformat": 4,
 "nbformat_minor": 5
}
