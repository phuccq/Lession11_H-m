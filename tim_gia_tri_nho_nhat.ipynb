{
 "cells": [
  {
   "cell_type": "code",
   "execution_count": 1,
   "id": "919caf30",
   "metadata": {},
   "outputs": [],
   "source": [
    "def find_min(numList):\n",
    "    min_num = numList[0]\n",
    "    for i in numList:\n",
    "        if i > min_num:\n",
    "            min_num = i\n",
    "    return min_num\n",
    "numList = [3,5,1,6,9]\n",
    "find_min(numList)"
   ]
  },
  {
   "cell_type": "code",
   "execution_count": null,
   "id": "ea256349",
   "metadata": {},
   "outputs": [],
   "source": []
  }
 ],
 "metadata": {
  "kernelspec": {
   "display_name": "Python 3 (ipykernel)",
   "language": "python",
   "name": "python3"
  },
  "language_info": {
   "codemirror_mode": {
    "name": "ipython",
    "version": 3
   },
   "file_extension": ".py",
   "mimetype": "text/x-python",
   "name": "python",
   "nbconvert_exporter": "python",
   "pygments_lexer": "ipython3",
   "version": "3.9.12"
  }
 },
 "nbformat": 4,
 "nbformat_minor": 5
}
