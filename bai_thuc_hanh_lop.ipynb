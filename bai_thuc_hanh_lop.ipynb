{
 "cells": [
  {
   "cell_type": "code",
   "execution_count": 9,
   "id": "cfa8f0d4",
   "metadata": {},
   "outputs": [
    {
     "data": {
      "text/plain": [
       "4"
      ]
     },
     "execution_count": 9,
     "metadata": {},
     "output_type": "execute_result"
    }
   ],
   "source": [
    "def uoc_chung_lon_nhat(a,b):\n",
    "    uoc_chung_lon_nhat = 1\n",
    "    if a<b:\n",
    "        for i in range(2,a+1):\n",
    "            if a%i==0 and b%i==0:\n",
    "                uoc_chung_lon_nhat = i\n",
    "    else:\n",
    "        for i in range(2,b+1):\n",
    "            if a%i==0 and b%i==0:\n",
    "                uoc_chung_lon_nhat = i\n",
    "    return uoc_chung_lon_nhat\n",
    "uoc_chung_lon_nhat(8,4)            "
   ]
  },
  {
   "cell_type": "code",
   "execution_count": null,
   "id": "cc7a1f3b",
   "metadata": {},
   "outputs": [],
   "source": []
  },
  {
   "cell_type": "code",
   "execution_count": null,
   "id": "ffc59a7e",
   "metadata": {},
   "outputs": [],
   "source": []
  }
 ],
 "metadata": {
  "kernelspec": {
   "display_name": "Python 3 (ipykernel)",
   "language": "python",
   "name": "python3"
  },
  "language_info": {
   "codemirror_mode": {
    "name": "ipython",
    "version": 3
   },
   "file_extension": ".py",
   "mimetype": "text/x-python",
   "name": "python",
   "nbconvert_exporter": "python",
   "pygments_lexer": "ipython3",
   "version": "3.9.12"
  }
 },
 "nbformat": 4,
 "nbformat_minor": 5
}
