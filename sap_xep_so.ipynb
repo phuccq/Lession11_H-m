{
 "cells": [
  {
   "cell_type": "code",
   "execution_count": 9,
   "id": "e5bdeec2",
   "metadata": {},
   "outputs": [
    {
     "name": "stdout",
     "output_type": "stream",
     "text": [
      "Nhập số thứ 1: 16\n",
      "Nhập số thứ 2: 5\n",
      "Nhập số thứ 3: 12\n"
     ]
    },
    {
     "data": {
      "text/plain": [
       "(5, 12, 16)"
      ]
     },
     "execution_count": 9,
     "metadata": {},
     "output_type": "execute_result"
    }
   ],
   "source": [
    "def sap_xep(num1, num2, num3):\n",
    "    tem = 0\n",
    "    # Kiểm tra xem  num2 có phải số nhỏ nhất\n",
    "    if num2<num1 and num2<num3:\n",
    "        tem = num1\n",
    "        num1 = num2\n",
    "        num2 = tem\n",
    "    # Kiểm tra xem  num3 có phải số nhỏ nhất\n",
    "    elif num3<num1 and num3<num2:\n",
    "        tem = num1\n",
    "        num1 = num3\n",
    "        num3 = tem\n",
    "    # Nếu ko rơi vào 2 trường hợp trên thì chỉ cần so sánh num2 và num3\n",
    "    if num3<num2:\n",
    "        tem = num2\n",
    "        num2 = num3\n",
    "        num3 = tem\n",
    "    return num1, num2, num3\n",
    "num1 = int(input(\"Nhập số thứ 1: \"))\n",
    "num2 = int(input(\"Nhập số thứ 2: \"))\n",
    "num3 = int(input(\"Nhập số thứ 3: \"))\n",
    "sap_xep(num1, num2, num3)"
   ]
  },
  {
   "cell_type": "code",
   "execution_count": null,
   "id": "bb1c0e0a",
   "metadata": {},
   "outputs": [],
   "source": []
  }
 ],
 "metadata": {
  "kernelspec": {
   "display_name": "Python 3 (ipykernel)",
   "language": "python",
   "name": "python3"
  },
  "language_info": {
   "codemirror_mode": {
    "name": "ipython",
    "version": 3
   },
   "file_extension": ".py",
   "mimetype": "text/x-python",
   "name": "python",
   "nbconvert_exporter": "python",
   "pygments_lexer": "ipython3",
   "version": "3.9.12"
  }
 },
 "nbformat": 4,
 "nbformat_minor": 5
}
